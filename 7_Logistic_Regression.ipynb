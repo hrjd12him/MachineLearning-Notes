{
 "cells": [
  {
   "cell_type": "markdown",
   "metadata": {},
   "source": [
    "Logistic regression is a statistical method used for binary classification tasks, where the goal is to predict the probability that an instance belongs to a particular class. Unlike linear regression, which predicts a continuous outcome, logistic regression predicts the probability that a given input belongs to a specific category, often referred to as the positive class.\n",
    "\n",
    "Here's how logistic regression works:\n",
    "\n",
    "### 1. **Sigmoid Function:**\n",
    "Logistic regression uses the sigmoid function (also called the logistic function) to transform any real-valued number into the range between 0 and 1. The sigmoid function is defined as:\n",
    "\n",
    "\\[ \\sigma(z) = \\frac{1}{1 + e^{-z}} \\]\n",
    "\n",
    "where \\(z\\) is the linear combination of the input features and their corresponding weights.\n",
    "\n",
    "### 2. **Linear Combination:**\n",
    "The linear combination (\\(z\\)) of input features (\\(x_1, x_2, \\ldots, x_n\\)) and their corresponding weights (\\(w_1, w_2, \\ldots, w_n\\)) is calculated as follows:\n",
    "\n",
    "\\[ z = w_0 + w_1x_1 + w_2x_2 + \\ldots + w_nx_n \\]\n",
    "\n",
    "Here, \\(w_0\\) is the bias term.\n",
    "\n",
    "### 3. **Prediction:**\n",
    "The sigmoid function is applied to the linear combination to obtain the predicted probability that the instance belongs to the positive class:\n",
    "\n",
    "\\[ \\text{Probability of positive class} = \\sigma(z) = \\frac{1}{1 + e^{-z}} \\]\n",
    "\n",
    "### 4. **Decision Boundary:**\n",
    "In binary classification, a decision boundary is used to classify instances into one of the two classes (0 or 1). The decision boundary is determined by the value of \\(z\\). If \\(z\\) is greater than or equal to a certain threshold (usually 0.5), the instance is classified as belonging to the positive class (1); otherwise, it is classified as belonging to the negative class (0).\n",
    "\n",
    "### 5. **Training:**\n",
    "During the training process, the logistic regression model learns the optimal values for the weights (\\(w_0, w_1, \\ldots, w_n\\)) that minimize the difference between the predicted probabilities and the actual class labels in the training data. This is typically done using optimization algorithms like gradient descent.\n",
    "\n",
    "Logistic regression is widely used for binary classification problems, such as spam detection, disease prediction, and credit risk analysis. It can also be extended to multiclass classification problems through techniques like one-vs-rest or softmax regression."
   ]
  }
 ],
 "metadata": {
  "language_info": {
   "name": "python"
  }
 },
 "nbformat": 4,
 "nbformat_minor": 2
}
