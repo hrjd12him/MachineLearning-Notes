{
 "cells": [
  {
   "cell_type": "markdown",
   "metadata": {},
   "source": [
    "## Supervised Machine Learning\n",
    "\n",
    "* Supervised learning is the types of machine learning in which machines are trained using well \"labelled\" training data, and on basis of that data, machines predict the output. The labelled data means some input data is already tagged with the correct output.\n",
    "\n",
    "* In supervised learning, the training data provided to the machines work as the supervisor that teaches the machines to predict the output correctly. It applies the same concept as a student learns in the supervision of the teacher.\n",
    "\n",
    "* Supervised learning is a process of providing input data as well as correct output data to the machine learning model. The aim of a supervised learning algorithm is to find a mapping function to map the input variable(x) with the output variable(y).\n",
    "\n",
    "* In the real-world, supervised learning can be used for Risk Assessment, Image classification, Fraud Detection, spam filtering, etc.\n",
    "\n",
    "\n",
    "### How Supervised Learning Works?\n",
    "\n",
    "* In supervised learning, models are trained using labelled dataset, where the model learns about each type of data. Once the training process is completed, the model is tested on the basis of test data (a subset of the training set), and then it predicts the output.\n",
    "\n",
    "### Types of supervised Machine learning Algorithms:\n",
    "\n",
    "**Supervised learning can be further divided into two types of problems:**\n",
    "\n",
    "1. Regression\n",
    "2. Classification\n",
    "\n",
    "* **Regression**\n",
    "\n",
    "* Regression algorithms are used if there is a relationship between the input variable and the output variable. It is used for the prediction of continuous variables, such as Weather forecasting, Market Trends, etc. Below are some popular Regression algorithms which come under supervised learning:\n",
    "\n",
    "1. Linear Regression\n",
    "2. Regression Trees\n",
    "3. Non-Linear Regression\n",
    "4. Bayesian Linear Regression\n",
    "5. Polynomial Regression\n",
    "\n",
    "*  **Classification**\n",
    "\n",
    "* Classification algorithms are used when the output variable is categorical, which means there are two classes such as Yes-No, Male-Female, True-false, etc.\n",
    "\n",
    "\n",
    "1. Random Forest\n",
    "2. Decision Trees\n",
    "3. Logistic Regression\n",
    "4. Support vector Machines\n",
    "\n",
    "### Advantages of Supervised learning:\n",
    "\n",
    "* With the help of supervised learning, the model can predict the output on the basis of prior experiences.\n",
    "\n",
    "* In supervised learning, we can have an exact idea about the classes of objects.\n",
    "\n",
    "* Supervised learning model helps us to solve various real-world problems such as fraud detection, spam filtering, etc.\n",
    "\n",
    "### Disadvantages of supervised learning:\n",
    "* Supervised learning models are not suitable for handling the complex tasks.\n",
    "* Supervised learning cannot predict the correct output if the test data is different from the training dataset.\n",
    "* Training required lots of computation times.\n",
    "* In supervised learning, we need enough knowledge about the classes of object."
   ]
  },
  {
   "cell_type": "markdown",
   "metadata": {},
   "source": []
  }
 ],
 "metadata": {
  "language_info": {
   "name": "python"
  }
 },
 "nbformat": 4,
 "nbformat_minor": 2
}
